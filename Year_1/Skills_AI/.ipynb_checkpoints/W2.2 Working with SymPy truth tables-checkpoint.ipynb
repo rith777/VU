{
 "cells": [
  {
   "cell_type": "markdown",
   "metadata": {},
   "source": [
    "### Working with SymPy for Proposition Logic"
   ]
  },
  {
   "cell_type": "markdown",
   "metadata": {},
   "source": [
    "# 2.2 Working with SymPy truth tables"
   ]
  },
  {
   "cell_type": "markdown",
   "metadata": {},
   "source": [
    "## Import statements for SymPy package"
   ]
  },
  {
   "cell_type": "code",
   "execution_count": 1,
   "metadata": {},
   "outputs": [],
   "source": [
    "from sympy import *\n",
    "from tabulate import tabulate"
   ]
  },
  {
   "cell_type": "markdown",
   "metadata": {},
   "source": [
    "## Setup of symbols"
   ]
  },
  {
   "cell_type": "markdown",
   "metadata": {},
   "source": [
    "Sympy is a library used for expression propositional logic statements in Python. The syntax is as follows:"
   ]
  },
  {
   "cell_type": "code",
   "execution_count": 2,
   "metadata": {},
   "outputs": [],
   "source": [
    "p, q, r, s, t = symbols('p q r s t') #declare the symboles used"
   ]
  },
  {
   "cell_type": "markdown",
   "metadata": {},
   "source": [
    "## Building some logical statements"
   ]
  },
  {
   "cell_type": "code",
   "execution_count": 3,
   "metadata": {},
   "outputs": [],
   "source": [
    "ls_one = Implies(And(Not(p),q),r)"
   ]
  },
  {
   "cell_type": "markdown",
   "metadata": {},
   "source": [
    "## Truth tables"
   ]
  },
  {
   "cell_type": "markdown",
   "metadata": {},
   "source": [
    "To create truth tables, we use the library Tabulate. It allows us to create both simple and complex truth tables, which we can fill with logical statements. Tables can be created by row or column, but for filling tables using truth values, the column-wise approach is the easiest and most intuitive option."
   ]
  },
  {
   "cell_type": "code",
   "execution_count": 4,
   "metadata": {},
   "outputs": [
    {
     "name": "stdout",
     "output_type": "stream",
     "text": [
      "| p   | q   |\n",
      "|-----+-----|\n",
      "| T   | T   |\n",
      "| T   | F   |\n",
      "| F   | T   |\n",
      "| F   | F   |\n"
     ]
    }
   ],
   "source": [
    "table = {\"p\": [\"T\", \"T\", \"F\", \"F\"], \"q\": [\"T\", \"F\", \"T\", \"F\"]}\n",
    "\n",
    "print(tabulate(table, headers=\"keys\",tablefmt=\"orgtbl\"))"
   ]
  },
  {
   "cell_type": "markdown",
   "metadata": {},
   "source": [
    "## Evaluating truth tables"
   ]
  },
  {
   "cell_type": "markdown",
   "metadata": {},
   "source": [
    "If we assume we have at most 5 symbols, the truth table will always be 32 rows long and filled with T's and F's."
   ]
  },
  {
   "cell_type": "code",
   "execution_count": 5,
   "metadata": {},
   "outputs": [],
   "source": [
    "def new_basic_table():\n",
    "    table = {\"p\": [\"T\"] * 16 + [\"F\"] * 16,\n",
    "             \"q\": ([\"T\"] * 8 + [\"F\"] * 8) * 2,\n",
    "             \"r\": ([\"T\"] * 4 + [\"F\"] * 4) * 4,\n",
    "             \"s\": ([\"T\"] * 2 + [\"F\"] * 2) * 8,\n",
    "             \"t\": [\"T\", \"F\"] * 16}\n",
    "\n",
    "    return table"
   ]
  },
  {
   "cell_type": "markdown",
   "metadata": {},
   "source": [
    "since we use the syntax <b>true</b> and <b>false</b> instead of <b>T</b> and <b>T</b>, we need a small function to convert between what looks good in the table and what is actually useful:"
   ]
  },
  {
   "cell_type": "code",
   "execution_count": 6,
   "metadata": {},
   "outputs": [],
   "source": [
    "def tte(inp):\n",
    "    if inp == \"T\":\n",
    "        return true\n",
    "    elif inp == \"F\":\n",
    "        return false"
   ]
  },
  {
   "cell_type": "markdown",
   "metadata": {},
   "source": [
    "With the base created, we can now create the main function that allows us to add logical statements to a truth table:"
   ]
  },
  {
   "cell_type": "code",
   "execution_count": 7,
   "metadata": {},
   "outputs": [],
   "source": [
    "def add_logical_statement(table, statement):\n",
    "    row_entries = []\n",
    "    symbols = list(statement.atoms())\n",
    "    \n",
    "\n",
    "    #remove these three lines to always show all five symbols\n",
    "    irrelevant = [i for i in list(table.keys()) if i not in [str(i) for i in symbols]]\n",
    "    for symbol in irrelevant:\n",
    "        del table[symbol]\n",
    "        \n",
    "\n",
    "    if len(symbols) == 2:\n",
    "        sym_1, sym_2 = symbols[0], symbols[1]\n",
    "        for i in range(32):\n",
    "            row_entries.append(statement.subs({sym_1: tte(table[str(sym_1)][i]), sym_2: tte(table[str(sym_2)][i])}))\n",
    "\n",
    "    elif len(symbols) == 3:\n",
    "        sym_1, sym_2, sym_3 = symbols[0], symbols[1], symbols[2]\n",
    "        for i in range(32):\n",
    "            row_entries.append(statement.subs({sym_1: tte(table[str(sym_1)][i]),\n",
    "                                               sym_2: tte(table[str(sym_2)][i]),\n",
    "                                               sym_3: tte(table[str(sym_3)][i])}))\n",
    "\n",
    "    elif len(symbols) == 4:\n",
    "        sym_1, sym_2, sym_3, sym_4 = symbols[0], symbols[1], symbols[2], symbols[3]\n",
    "        for i in range(32):\n",
    "            row_entries.append(statement.subs({sym_1: tte(table[str(sym_1)][i]),\n",
    "                                               sym_2: tte(table[str(sym_2)][i]),\n",
    "                                               sym_3: tte(table[str(sym_3)][i]),\n",
    "                                               sym_4: tte(table[str(sym_4)][i])}))\n",
    "\n",
    "    elif (len(symbols)) == 5:\n",
    "        sym_1, sym_2, sym_3, sym_4, sym_5 = symbols[0], symbols[1], symbols[2], symbols[3], symbols[4]\n",
    "        for i in range(32):\n",
    "            row_entries.append(statement.subs({sym_1: tte(table[str(sym_1)][i]),\n",
    "                                               sym_2: tte(table[str(sym_2)][i]),\n",
    "                                               sym_3: tte(table[str(sym_3)][i]),\n",
    "                                               sym_4: tte(table[str(sym_4)][i]),\n",
    "                                               sym_5: tte(table[str(sym_5)][i])}))\n",
    "\n",
    "    table[statement] = row_entries\n",
    "\n",
    "    return table"
   ]
  },
  {
   "cell_type": "markdown",
   "metadata": {},
   "source": [
    "and finally see whether it works with our example logical statement:"
   ]
  },
  {
   "cell_type": "markdown",
   "metadata": {},
   "source": [
    "## Truth table example in action"
   ]
  },
  {
   "cell_type": "code",
   "execution_count": 8,
   "metadata": {},
   "outputs": [
    {
     "name": "stdout",
     "output_type": "stream",
     "text": [
      "p    q    r    Implies(q & ~p, r)\n",
      "---  ---  ---  --------------------\n",
      "T    T    T    True\n",
      "T    T    T    True\n",
      "T    T    T    True\n",
      "T    T    T    True\n",
      "T    T    F    True\n",
      "T    T    F    True\n",
      "T    T    F    True\n",
      "T    T    F    True\n",
      "T    F    T    True\n",
      "T    F    T    True\n",
      "T    F    T    True\n",
      "T    F    T    True\n",
      "T    F    F    True\n",
      "T    F    F    True\n",
      "T    F    F    True\n",
      "T    F    F    True\n",
      "F    T    T    True\n",
      "F    T    T    True\n",
      "F    T    T    True\n",
      "F    T    T    True\n",
      "F    T    F    False\n",
      "F    T    F    False\n",
      "F    T    F    False\n",
      "F    T    F    False\n",
      "F    F    T    True\n",
      "F    F    T    True\n",
      "F    F    T    True\n",
      "F    F    T    True\n",
      "F    F    F    True\n",
      "F    F    F    True\n",
      "F    F    F    True\n",
      "F    F    F    True\n"
     ]
    }
   ],
   "source": [
    "print(tabulate(add_logical_statement(new_basic_table(),ls_one), headers=\"keys\"))"
   ]
  },
  {
   "cell_type": "markdown",
   "metadata": {},
   "source": [
    "And another test:"
   ]
  },
  {
   "cell_type": "code",
   "execution_count": 9,
   "metadata": {},
   "outputs": [
    {
     "name": "stdout",
     "output_type": "stream",
     "text": [
      "p    q    r    Implies(q & ~p, r)\n",
      "---  ---  ---  --------------------\n",
      "T    T    T    True\n",
      "T    T    T    True\n",
      "T    T    T    True\n",
      "T    T    T    True\n",
      "T    T    F    True\n",
      "T    T    F    True\n",
      "T    T    F    True\n",
      "T    T    F    True\n",
      "T    F    T    True\n",
      "T    F    T    True\n",
      "T    F    T    True\n",
      "T    F    T    True\n",
      "T    F    F    True\n",
      "T    F    F    True\n",
      "T    F    F    True\n",
      "T    F    F    True\n",
      "F    T    T    True\n",
      "F    T    T    True\n",
      "F    T    T    True\n",
      "F    T    T    True\n",
      "F    T    F    False\n",
      "F    T    F    False\n",
      "F    T    F    False\n",
      "F    T    F    False\n",
      "F    F    T    True\n",
      "F    F    T    True\n",
      "F    F    T    True\n",
      "F    F    T    True\n",
      "F    F    F    True\n",
      "F    F    F    True\n",
      "F    F    F    True\n",
      "F    F    F    True\n"
     ]
    }
   ],
   "source": [
    "ls_jk = Implies\n",
    "print(tabulate(add_logical_statement(new_basic_table(),ls_one), headers=\"keys\"))"
   ]
  },
  {
   "cell_type": "code",
   "execution_count": null,
   "metadata": {},
   "outputs": [],
   "source": []
  }
 ],
 "metadata": {
  "kernelspec": {
   "display_name": "Python 3",
   "language": "python",
   "name": "python3"
  },
  "language_info": {
   "codemirror_mode": {
    "name": "ipython",
    "version": 3
   },
   "file_extension": ".py",
   "mimetype": "text/x-python",
   "name": "python",
   "nbconvert_exporter": "python",
   "pygments_lexer": "ipython3",
   "version": "3.8.4"
  }
 },
 "nbformat": 4,
 "nbformat_minor": 4
}
