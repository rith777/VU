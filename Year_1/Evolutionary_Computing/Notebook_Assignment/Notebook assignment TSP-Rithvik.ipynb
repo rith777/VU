{
 "cells": [
  {
   "cell_type": "markdown",
   "id": "3025ffb7",
   "metadata": {
    "id": "3025ffb7"
   },
   "source": [
    "# Evolutionary Computing: Notebook assignment - Traveling Salesman Problem"
   ]
  },
  {
   "cell_type": "markdown",
   "id": "7226d85c",
   "metadata": {
    "id": "7226d85c"
   },
   "source": [
    "This notebook will implement some parts of the lectures slides that are based on Chapter 1 - 4.\n",
    "\n",
    "\n",
    "# Goal:\n",
    "\n",
    "You have to run a correct Evolutionary Algorithm, where you will solve the famous Traveling Salesman Problem. You have solved the assignment if the distance travelled is below **13.500 km traveled**.\n",
    "\n",
    "There are two remarks:\n",
    "(1) The population size must be <= 100. (2) Number of iterations <=1.000. You are free to change the hyperparameters like probability of mutation / crossover (explanation will follow).\n",
    "\n",
    "Try to see if your algorithm is able to find such a solution after the amount of generations (iterations) that is given.\n",
    "\n",
    "Throughout the notebook we have implemented some assert checks, you can use them to make sure your implementation is on the right track.\n",
    "\n",
    "**Deadline**: **Submit the filled in jupyter notebook through Canvas before September 12, 23:59. Make sure you submit it with the output from the last cell where your solution is visable.**\n",
    "\n",
    "You will receive a pass/fail grade.\n",
    "\n",
    "During the practical sessions the TA's will present a presentation with tips & tricks. Please visit Canvas for the room details.\n",
    "\n",
    "Good luck and have fun!\n",
    "\n",
    "\n",
    "\n",
    "---\n",
    "\n",
    "\n",
    "\n",
    "\n",
    "**Rules:**\n",
    "\n",
    "  * Plagiarism is automatically checked and set to **fail**\n",
    "\n",
    "  * It is allowed to learn from external resources but copying is not allowed. If you use any external resource, please cite them in the comments (e.g. `# source: https://...../` (see `fitness_function`))"
   ]
  },
  {
   "cell_type": "markdown",
   "id": "2ac6889e",
   "metadata": {
    "id": "2ac6889e"
   },
   "source": [
    "As always, we need to first import several packages:"
   ]
  },
  {
   "cell_type": "code",
   "execution_count": 17,
   "id": "1f80d72c",
   "metadata": {
    "id": "1f80d72c"
   },
   "outputs": [],
   "source": [
    "import numpy as np\n",
    "from numpy.random import randint\n",
    "from numpy.random import rand\n",
    "import random\n",
    "import matplotlib.pyplot as plt\n",
    "from typing import List, Tuple\n",
    "\n",
    "np.random.seed(5)"
   ]
  },
  {
   "cell_type": "markdown",
   "id": "5a30fd5a",
   "metadata": {
    "id": "5a30fd5a"
   },
   "source": [
    "**Instructions:**\n",
    "\n",
    "In the notebook, you will see a couple of ToDos with some instructions. Try your best to work through them and to complete the notebook. In case you run into problems, do not hesitate to ask questions on the Canvas Discussion board or during the practicals. You can also check out the other notebook example (one max problem) on Canvas for inspiration."
   ]
  },
  {
   "cell_type": "markdown",
   "id": "15741398",
   "metadata": {
    "id": "15741398"
   },
   "source": [
    "## Traveler's salesman problem"
   ]
  },
  {
   "cell_type": "markdown",
   "id": "284a5d11",
   "metadata": {
    "id": "284a5d11"
   },
   "source": [
    "In this notebook, we will see how we can use EA to solve the famous traveling salesmen problem. In this problem, a salesman person is encountered with the task to visit all cities in the shortest way and returne home. Also, we will assume that the traveler salesman has a fixed starting and end point (Amsterdan). Hence, there are two constraints:\n",
    "\n",
    "- Each city needs to be visited.\n",
    "- The traveler needs to start and end home (Amsterdam).\n",
    "\n",
    "For sake of simplicity, let's assume that we want to find the shortest route for 1 cities in Europe. In particular, we will use the following cities, with the following encoding:\n",
    "\n",
    "- 0: Amsterdam\n",
    "- 1: Athens\n",
    "- 2: Berlin\n",
    "- 3: Brussels\n",
    "- 4: Copenhagen\n",
    "- 5: Edinburgh\n",
    "- 6: Lisbon\n",
    "- 7: London\n",
    "- 8: Madrid\n",
    "- 9: Paris\n",
    "\n",
    "if you want to have a example video, please view: https://www.youtube.com/watch?v=1pmBjIZ20pE&ab_channel=AlphaOpt"
   ]
  },
  {
   "cell_type": "markdown",
   "id": "b3a473a7",
   "metadata": {
    "id": "b3a473a7"
   },
   "source": [
    "One way to represent the distances between the cities is to use a so-called adjancey matrix, where $A_{ij}$ denotes the distance from city $i$ to city $j$. The driving distances for the above-mentioned cities  (in km) can be found can be found [here](https://www.engineeringtoolbox.com/driving-distances-d_1029.html). Given this, we can initialize the adjacency matrix:"
   ]
  },
  {
   "cell_type": "code",
   "execution_count": 18,
   "id": "3d7310c7",
   "metadata": {
    "id": "3d7310c7"
   },
   "outputs": [],
   "source": [
    "adjacency_mat = np.asarray(\n",
    "    #Remember that we use the encoding above, i.e. 0 refers to Amsterdam and 10 to Paris!\n",
    "    [\n",
    "        [0, 3082, 649, 209, 904, 1180, 2300, 494, 1782, 515], # Distance Amsterdam to the other cities\n",
    "        [3082, 0, 2552, 3021, 3414, 3768, 4578, 3099, 3940, 3140], # Distance Athens to the other cities\n",
    "        [649, 2552, 0, 782, 743, 1727, 3165, 1059, 2527, 1094], # Distance Berlin to the other cities\n",
    "        [209, 3021, 782, 0, 1035, 996, 2080, 328, 1562, 294], # Distance Brussels to the other cities\n",
    "        [904, 3414, 743, 1035, 0, 1864, 3115, 1196, 2597, 1329], # Distance Copenhagen to the other cities\n",
    "        [1180, 3768, 1727, 996, 1864, 0, 2879, 656, 2372, 1082], # Distance Edinburgh to the other cities\n",
    "        [2300, 4578, 3165, 2080, 3115, 2879, 0, 2210, 638, 1786], # Distance Lisbon to the other cities\n",
    "        [494, 3099, 1059, 328, 1196, 656, 2210, 0, 1704, 414], # Distance London to the other cities\n",
    "        [1782, 3940, 2527, 1562, 2597, 2372, 638, 1704, 0, 1268], # Distance Madrid to the other cities\n",
    "        [515, 3140, 1094, 294, 1329, 1082, 1786, 414, 1268, 0] # Distance Paris to the other cities\n",
    "    ]\n",
    "\n",
    ")"
   ]
  },
  {
   "cell_type": "markdown",
   "id": "849d8325",
   "metadata": {
    "id": "849d8325"
   },
   "source": [
    "An important property of the adjacency matrix is that it is symmetric, hence we will check this first:"
   ]
  },
  {
   "cell_type": "code",
   "execution_count": 19,
   "id": "c5540601",
   "metadata": {
    "colab": {
     "base_uri": "https://localhost:8080/"
    },
    "executionInfo": {
     "elapsed": 12,
     "status": "ok",
     "timestamp": 1724676401491,
     "user": {
      "displayName": "B Borsboom",
      "userId": "08714826017108422865"
     },
     "user_tz": -120
    },
    "id": "c5540601",
    "outputId": "e9a1d194-3a55-4476-8b9c-7218475d2504"
   },
   "outputs": [
    {
     "data": {
      "text/plain": [
       "True"
      ]
     },
     "execution_count": 19,
     "metadata": {},
     "output_type": "execute_result"
    }
   ],
   "source": [
    "(adjacency_mat==adjacency_mat.T).all()"
   ]
  },
  {
   "cell_type": "markdown",
   "id": "e6556cea",
   "metadata": {
    "id": "e6556cea"
   },
   "source": [
    "For solving this problem, we will need the following key concepts:\n",
    "\n",
    "- Fitness function\n",
    "- Variation operators (recombination and mutation)\n",
    "- Selection operator"
   ]
  },
  {
   "cell_type": "markdown",
   "id": "82babcee",
   "metadata": {
    "id": "82babcee"
   },
   "source": [
    "For the fitness function, it is intuitiv to take the total number of kilometers traveled as a measure of fitness. The lower the total number of kilometers covered for a given route, the better."
   ]
  },
  {
   "cell_type": "code",
   "execution_count": 20,
   "id": "f4a52a28",
   "metadata": {
    "id": "f4a52a28"
   },
   "outputs": [],
   "source": [
    "def compute_distance(route: list, adjacency_mat: np.ndarray) -> int:\n",
    "    '''\n",
    "    Calculates the total number of kilometers for a given route.\n",
    "    '''\n",
    "    total_distance = 0\n",
    "\n",
    "    if sorted(route) == [0,0,1,2,3,4,5,6,7,8,9]:\n",
    "        for i in range(len(route) - 1):\n",
    "            total_distance += adjacency_mat[route[i]][route[i + 1]]\n",
    "        total_distance += adjacency_mat[route[-1]][route[0]]\n",
    "        return total_distance\n",
    "    else:\n",
    "        raise ValueError(\"Invalid Route\")\n",
    "\n"
   ]
  },
  {
   "cell_type": "code",
   "execution_count": 21,
   "id": "1e6173a0",
   "metadata": {
    "id": "1e6173a0"
   },
   "outputs": [],
   "source": [
    "def fittest_solution_TSP(compute_distance, generation: list, adjancency_mat: np.ndarray) -> tuple:\n",
    "    '''\n",
    "    This function calculates the fitness values of all individuals of a generation.\n",
    "    It then returns the best fitness value (integer) and the corresponding individual (list).\n",
    "    '''\n",
    "\n",
    "    #list contains all the values fitness values\n",
    "    #there is also an array of all of these lists which represent all the solutions coming from the different inputs.\n",
    "    #I need to retrieve the best fitness value using compute distance and the corresponding list\n",
    "\n",
    "    shortest_distance = 999999999\n",
    "    best_individual = None\n",
    "    for individual in generation:\n",
    "\n",
    "        distance = compute_distance(individual, adjancency_mat)\n",
    "        if distance < shortest_distance:\n",
    "            shortest_distance = distance\n",
    "            best_individual = individual\n",
    "    return shortest_distance, best_individual\n",
    "\n",
    "\n"
   ]
  },
  {
   "cell_type": "markdown",
   "id": "28a05a1c",
   "metadata": {
    "id": "28a05a1c"
   },
   "source": [
    "Having defined the fitness function, we need of course a function to initialize our generation of solutions."
   ]
  },
  {
   "cell_type": "code",
   "execution_count": 22,
   "id": "423f2bee",
   "metadata": {
    "id": "423f2bee"
   },
   "outputs": [],
   "source": [
    "def initialize_population(n_population: int) -> list:\n",
    "    '''This returns a randomly initialized list of individual solutions of size n_population.'''\n",
    "\n",
    "    population = []\n",
    "    for i in range(n_population):\n",
    "        cities = list(range(1, 10))\n",
    "        random.shuffle(cities)\n",
    "        cities = [0] + cities + [0]\n",
    "        population.append(cities)\n",
    "\n",
    "\n",
    "\n",
    "    for individual in population:\n",
    "        # Implement some assertion tests for checking if the individual meets criteria\n",
    "        assert (individual[0] == individual[-1] == 0), 'Make sure you start and end in Amsterdam'\n",
    "        assert len(\n",
    "            set(individual)) == 10, \"Individual must contain all unique values from 0 to 9, as is must visit all cities\"\n",
    "        assert (len(individual) == 11), \"Individual must be length 11\"\n",
    "\n",
    "    return population"
   ]
  },
  {
   "cell_type": "markdown",
   "id": "CyekHNfSPuDD",
   "metadata": {
    "id": "CyekHNfSPuDD"
   },
   "source": [
    "###Visualizing Solutions\n",
    "\n",
    "If it comes in handy, you can use this function to visualize your candidate solutions - and make sure they are of correct format. Try the cell block below for an example. Note, you should not adjust this code."
   ]
  },
  {
   "cell_type": "code",
   "execution_count": 23,
   "id": "TrafgoS9PtBX",
   "metadata": {
    "id": "TrafgoS9PtBX"
   },
   "outputs": [],
   "source": [
    "import networkx as nx\n",
    "\n",
    "def visualize(candidate_solution: list):\n",
    "    \"\"\"\n",
    "    Visualizes the solution to the TSP problem\n",
    "    \"\"\"\n",
    "\n",
    "    #Make sure the candidate solution is valid before trying to visualize it\n",
    "\n",
    "    assert (candidate_solution[0] == candidate_solution[-1] and candidate_solution[0] == 0 ), 'Make sure you start and end in Amsterdam'\n",
    "    assert len(set(candidate_solution)) == 10, \"Individual must contain all unique values from 0 to 9, as is must visit all cities\"\n",
    "    assert (len(candidate_solution) == 11), \"Individual must be length 11\"\n",
    "\n",
    "\n",
    "    edges = [(candidate_solution[i], candidate_solution[i+1]) for i in range(len(candidate_solution) - 1)]\n",
    "\n",
    "    labels = {\n",
    "    0: 'Amsterdam',\n",
    "    1: 'Athens',\n",
    "    2: 'Berlin',\n",
    "    3: 'Brussels',\n",
    "    4: 'Copenhagen',\n",
    "    5: 'Edinburgh',\n",
    "    6: 'Lisbon',\n",
    "    7: 'London',\n",
    "    8: 'Madrid',\n",
    "    9: 'Paris'}\n",
    "\n",
    "    positions = {\n",
    "    0: (-42.0, 62.0),  # Amsterdam\n",
    "    1: (10.0, 10),  # Athens\n",
    "    2: (-5.0, 62.0),    # Berlin\n",
    "    3: (-45.0, 48.0),  # Brussels\n",
    "    4: (-30.0, 70.0),   # Copenhagen\n",
    "    5: (-38.0, 92.0),  # Edinburgh\n",
    "    6: (-60.0, 15.0),  # Lisbon\n",
    "    7: (-52.0, 70.0),  # London\n",
    "    8: (-50.0, 20.0),  # Madrid\n",
    "    9: (-35.0, 45.0)   # Paris\n",
    "}\n",
    "\n",
    "    G = nx.DiGraph()\n",
    "    G.add_edges_from(edges)\n",
    "\n",
    "    plt.figure(figsize=(8, 6))\n",
    "    nx.draw(G, positions, labels=labels, with_labels=True, node_color='lightblue',\n",
    "            node_size=800, font_size=10, font_weight='bold',\n",
    "            edge_color='gray', arrowsize=20, arrowstyle='->')\n",
    "\n",
    "\n",
    "    distance = compute_distance(candidate_solution, adjacency_mat)\n",
    "    plt.title(\"TSP Solution\\nTotal Distance: \" + str (distance))\n",
    "    plt.show()"
   ]
  },
  {
   "cell_type": "code",
   "execution_count": 24,
   "id": "bLw1tptlUEpw",
   "metadata": {
    "colab": {
     "base_uri": "https://localhost:8080/",
     "height": 680
    },
    "executionInfo": {
     "elapsed": 1670,
     "status": "ok",
     "timestamp": 1724909558690,
     "user": {
      "displayName": "B Borsboom",
      "userId": "08714826017108422865"
     },
     "user_tz": -120
    },
    "id": "bLw1tptlUEpw",
    "outputId": "8dcaa7cd-5481-4f3b-96ae-9ebe83673f50"
   },
   "outputs": [
    {
     "data": {
      "image/png": "[encoded data removed]",
      "text/plain": [
       "<Figure size 800x600 with 1 Axes>"
      ]
     },
     "metadata": {},
     "output_type": "display_data"
    }
   ],
   "source": [
    "example_solution = [0,1,2,3,4,5,6,7,8,9,0]\n",
    "visualize(example_solution)"
   ]
  },
  {
   "cell_type": "markdown",
   "id": "aa0cd96e",
   "metadata": {
    "id": "aa0cd96e"
   },
   "source": [
    "Given that we defined the fitness function and the initialization of the algorithm, we need to define the variational operators, i.e. crossover and mutation. To recall, for permutation problems, one can distinguish problems for which the order is important (production problems) or which elements occur next to each other (adjacency). In our TSP problem, it is important which element occur next to each other, i.e. adjacency.\n"
   ]
  },
  {
   "cell_type": "markdown",
   "id": "dd51be9f",
   "metadata": {
    "id": "dd51be9f"
   },
   "source": [
    "### Mutation operator:\n",
    "\n",
    "\n",
    "Regarding the mutation operator, below we will give you some options for inspiration. We can choose from several mutation operators:\n",
    "\n",
    "- Swap operator\n",
    "- Insert operator\n",
    "- Scramble operator\n",
    "- Inversion operator\n",
    "\n",
    "\n",
    "\n",
    "Make sure the mutated individual still starts and ends in Amsterdam!\n",
    "\n",
    "p_mutation is a hyperparameter, dictating the probability of mutation happening to any individual."
   ]
  },
  {
   "cell_type": "code",
   "execution_count": 25,
   "id": "09fa9497",
   "metadata": {
    "id": "09fa9497"
   },
   "outputs": [],
   "source": [
    "def mutation(child:list, p_mutation:float) -> list:\n",
    "    '''This applies a mutation operator to a list and returns the mutated list.'''\n",
    "\n",
    "    if np.random.uniform() > p_mutation:\n",
    "        #no mutation\n",
    "        return child\n",
    "    else:\n",
    "        middle_part = child[1:-1]\n",
    "        random.shuffle(middle_part)\n",
    "        child_mutated = [0] + middle_part + [0]\n",
    "\n",
    "        # Implement some assertion tests for checking if the mutation goes as expected\n",
    "        assert (child_mutated[0] == child_mutated[-1] and child_mutated[\n",
    "            0] == 0), 'Make sure you start and end in Amsterdam'\n",
    "        assert len(\n",
    "            set(child_mutated)) == 10, \"Individual must contain all unique values from 0 to 9, as is must visit all cities\"\n",
    "        assert (len(child_mutated) == 11), \"Individual must be length 11\"\n",
    "\n",
    "    return child_mutated"
   ]
  },
  {
   "cell_type": "markdown",
   "id": "e8e3aa7f",
   "metadata": {
    "id": "e8e3aa7f"
   },
   "source": [
    "Having completed the mutation operator, we can move on to define the cross-over operator. Again, we have multiple options to chose from:\n",
    "- One/Muli-point cross-over\n",
    "- Uniform cross-over\n",
    "- Shuffle cross-over\n",
    "- Partially mapped cross-over (PMX)\n",
    "- Edge recombination cross-over\n",
    "\n",
    "As our genotypes represent permutations with specific bounds, we need to make sure to preserve the specific properties of our parents (connections between the nodes), and ensures our bounds (zeros at both ends, each number 1-9 appears only once) are still met.\n",
    "\n",
    "Edge Recombination cross-over is [particularily suited for our problem](https://en.wikipedia.org/wiki/Edge_recombination_operator), as it preserves the adjacency and the same number of each elements. We recommend implementing this cross-over or the PMX algorithm.\n",
    "\n",
    "Remember to make sure your mutated individual still begins and ends with a zero (Amsterdam)."
   ]
  },
  {
   "cell_type": "code",
   "execution_count": 26,
   "id": "4fb2105b",
   "metadata": {
    "id": "4fb2105b"
   },
   "outputs": [],
   "source": [
    "def create_offrping_edge_recombination(parent_1: list, parent_2: list) -> list:\n",
    "    '''\n",
    "    This function applies the Edge Recombination cross-over on two parents and returns a single child.\n",
    "    '''\n",
    "   \n",
    "    #Strip the zeros\n",
    "\n",
    "    parent_1_stripped = [x for x in parent_1 if x != 0]\n",
    "    parent_2_stripped = [x for x in parent_2 if x != 0]\n",
    "\n",
    "    #create an edge table\n",
    "    edge_table = {key: set() for key in parent_1_stripped}\n",
    "    #fill the edge table\n",
    "\n",
    "    n = len(parent_1_stripped)\n",
    "\n",
    "    for i in range(n):\n",
    "        node = parent_1_stripped[i]\n",
    "\n",
    "        prev_neighbour = parent_1_stripped[i-1]\n",
    "        next_neighbour = parent_1_stripped[(i+1) % n]\n",
    "\n",
    "        edge_table[node].add(prev_neighbour)\n",
    "        edge_table[node].add(next_neighbour)\n",
    "\n",
    "    for i in range(n):\n",
    "        node = parent_2_stripped[i]\n",
    "\n",
    "        prev_neighbour = parent_2_stripped[i-1]\n",
    "        next_neighbour = parent_2_stripped[(i+1) % n]\n",
    "\n",
    "        edge_table[node].add(prev_neighbour)\n",
    "        edge_table[node].add(next_neighbour)\n",
    "\n",
    "    #Start with a random city:\n",
    "    current = random.choice(parent_1_stripped)\n",
    "    child = [current]\n",
    "\n",
    "    #until we build the entire child:\n",
    "    while len(child) < len(parent_1_stripped):\n",
    "        #remove the current city from the others' adjacency lists\n",
    "        for node in edge_table.keys():\n",
    "            edge_table[node].discard(current)\n",
    "\n",
    "        #if current city has neighbors, choose the one with the fewest connections left - this helps priroritizing a structure that preserves the parents' structures.\n",
    "\n",
    "        if edge_table[current]:\n",
    "            min_neighbours = len(parent_1_stripped) + 1\n",
    "            next_city = None\n",
    "            for neighbour in edge_table[current]:\n",
    "                if len(edge_table[neighbour]) < min_neighbours:\n",
    "                    min_neighbours = len(edge_table[neighbour])\n",
    "                    next_city = neighbour\n",
    "        else:\n",
    "            # If no neighbors, choose a random unvisited city\n",
    "            remaining = [city for city in parent_1_stripped if city not in child]\n",
    "            next_city = random.choice(remaining)\n",
    "\n",
    "\n",
    "        #add the chosen city to the child\n",
    "        child.append(next_city)\n",
    "        #the previous new city is now the last chosen one\n",
    "        current = next_city\n",
    "\n",
    "\n",
    "    #remember to add zeros back!\n",
    "    child = [0] + child + [0]\n",
    "\n",
    "    assert (child[0] == child[-1] and child[0] == 0), 'Make sure you start and end in Amsterdam'\n",
    "    assert len(set(child)) == 10, \"Child must contain all unique values from 0 to 9, as is must visit all cities\"\n",
    "    assert (len(child) == 11), \"Child must be length 11\"\n",
    "\n",
    "    return child\n",
    "\n",
    "def crossover(parent_1: list, parent_2: list, p_crossover:float,\n",
    "                               ) -> tuple:\n",
    "    \"\"\"\n",
    "    Performs the Edge Recombination crossover twice on the same pair of parents, returns a pair of children.\n",
    "    \"\"\"\n",
    "\n",
    "    if np.random.uniform() > p_crossover:\n",
    "        #Do not perform crossover\n",
    "        return parent_1, parent_2\n",
    "    else:\n",
    "      #create two children\n",
    "      child_1 = create_offrping_edge_recombination(parent_1, parent_2)\n",
    "      child_2 = create_offrping_edge_recombination(parent_1, parent_2)\n",
    "      return child_1, child_2"
   ]
  },
  {
   "cell_type": "markdown",
   "id": "cd557640",
   "metadata": {
    "id": "cd557640"
   },
   "source": [
    "Having implemented the function to initalize our population, the fitness function as well as the variational operators, parent selection as well as survival selection is left. We will use the tournament selection as well as implement a generational survial mechanism, i.e. all children replace their parents."
   ]
  },
  {
   "cell_type": "code",
   "execution_count": 27,
   "id": "7eda976e",
   "metadata": {
    "id": "7eda976e"
   },
   "outputs": [],
   "source": [
    "def tournament_selection(generation: list,\n",
    "                             compute_distance, adjacency_mat: np.ndarray, k: int) -> int:\n",
    "    '''\n",
    "    Implements the tournament selection algorithm.\n",
    "    It draws randomly with replacement k individuals and returns the index of the fittest individual.\n",
    "    '''\n",
    "    selected_individual = [random.randint(0, len(generation) - 1) for _ in range(k)]\n",
    "\n",
    "    best_distance = float('inf')\n",
    "\n",
    "    for i in selected_individual:\n",
    "        individual = generation[i]\n",
    "        distance = compute_distance(individual, adjacency_mat)\n",
    "        if distance < best_distance:\n",
    "            best_distance = distance\n",
    "            current_winner = i\n",
    "\n",
    "    return current_winner\n"
   ]
  },
  {
   "cell_type": "markdown",
   "id": "3ce2400a",
   "metadata": {
    "id": "3ce2400a"
   },
   "source": [
    "Lastly, we can run the experiment to see if we can find a suitable route for our travels through Europe!"
   ]
  },
  {
   "cell_type": "markdown",
   "id": "2c20ba6e",
   "metadata": {
    "id": "2c20ba6e"
   },
   "source": [
    "## Run the simulation: TSP problem"
   ]
  },
  {
   "cell_type": "code",
   "execution_count": 29,
   "id": "2f9d6647",
   "metadata": {
    "id": "2f9d6647"
   },
   "outputs": [
    {
     "name": "stdout",
     "output_type": "stream",
     "text": [
      "The current best solution in the initial generation is [0, 3, 5, 9, 6, 8, 4, 2, 1, 7, 0] km and the route is 14196\n",
      "The current best population in generation 25 is [0, 4, 2, 1, 5, 7, 6, 8, 9, 3, 0] km and the route is 13242\n",
      "The current best population in generation 50 is [0, 4, 2, 1, 5, 7, 6, 8, 9, 3, 0] km and the route is 13242\n",
      "The current best population in generation 75 is [0, 4, 2, 1, 5, 7, 6, 8, 9, 3, 0] km and the route is 13242\n",
      "The current best population in generation 100 is [0, 4, 2, 1, 5, 7, 6, 8, 9, 3, 0] km and the route is 13242\n",
      "The current best population in generation 125 is [0, 4, 2, 1, 5, 7, 6, 8, 9, 3, 0] km and the route is 13242\n",
      "The current best population in generation 150 is [0, 4, 2, 1, 5, 7, 6, 8, 9, 3, 0] km and the route is 13242\n",
      "The current best population in generation 175 is [0, 4, 2, 1, 5, 7, 6, 8, 9, 3, 0] km and the route is 13242\n",
      "The current best population in generation 200 is [0, 4, 2, 1, 5, 7, 6, 8, 9, 3, 0] km and the route is 13242\n",
      "The current best population in generation 225 is [0, 4, 2, 1, 5, 7, 6, 8, 9, 3, 0] km and the route is 13242\n",
      "The current best population in generation 250 is [0, 4, 2, 1, 8, 6, 9, 7, 5, 3, 0] km and the route is 12838\n",
      "The current best population in generation 275 is [0, 4, 2, 1, 8, 6, 9, 7, 5, 3, 0] km and the route is 12838\n",
      "The current best population in generation 300 is [0, 4, 2, 1, 8, 6, 9, 7, 5, 3, 0] km and the route is 12838\n",
      "The current best population in generation 325 is [0, 4, 2, 1, 8, 6, 9, 7, 5, 3, 0] km and the route is 12838\n",
      "The current best population in generation 350 is [0, 4, 2, 1, 8, 6, 9, 7, 5, 3, 0] km and the route is 12838\n",
      "The current best population in generation 375 is [0, 4, 2, 1, 8, 6, 9, 7, 5, 3, 0] km and the route is 12838\n",
      "The current best population in generation 400 is [0, 4, 2, 1, 8, 6, 9, 7, 5, 3, 0] km and the route is 12838\n",
      "The current best population in generation 425 is [0, 4, 2, 1, 8, 6, 9, 7, 5, 3, 0] km and the route is 12838\n",
      "The current best population in generation 450 is [0, 4, 2, 1, 8, 6, 9, 7, 5, 3, 0] km and the route is 12838\n",
      "The current best population in generation 475 is [0, 4, 2, 1, 8, 6, 9, 7, 5, 3, 0] km and the route is 12838\n",
      "The current best population in generation 500 is [0, 4, 2, 1, 8, 6, 9, 7, 5, 3, 0] km and the route is 12838\n",
      "The current best population in generation 525 is [0, 4, 2, 1, 8, 6, 9, 7, 5, 3, 0] km and the route is 12838\n",
      "The current best population in generation 550 is [0, 4, 2, 1, 8, 6, 9, 7, 5, 3, 0] km and the route is 12838\n",
      "The current best population in generation 575 is [0, 4, 2, 1, 8, 6, 9, 7, 5, 3, 0] km and the route is 12838\n",
      "The current best population in generation 600 is [0, 4, 2, 1, 8, 6, 9, 7, 5, 3, 0] km and the route is 12838\n",
      "The current best population in generation 625 is [0, 4, 2, 1, 8, 6, 9, 7, 5, 3, 0] km and the route is 12838\n",
      "The current best population in generation 650 is [0, 4, 2, 1, 8, 6, 9, 7, 5, 3, 0] km and the route is 12838\n",
      "The current best population in generation 675 is [0, 4, 2, 1, 8, 6, 9, 7, 5, 3, 0] km and the route is 12838\n",
      "The current best population in generation 700 is [0, 4, 2, 1, 8, 6, 9, 7, 5, 3, 0] km and the route is 12838\n",
      "The current best population in generation 725 is [0, 4, 2, 1, 8, 6, 9, 7, 5, 3, 0] km and the route is 12838\n",
      "The current best population in generation 750 is [0, 4, 2, 1, 8, 6, 9, 7, 5, 3, 0] km and the route is 12838\n",
      "The current best population in generation 775 is [0, 4, 2, 1, 8, 6, 9, 7, 5, 3, 0] km and the route is 12838\n",
      "The current best population in generation 800 is [0, 4, 2, 1, 8, 6, 9, 7, 5, 3, 0] km and the route is 12838\n",
      "The current best population in generation 825 is [0, 4, 2, 1, 8, 6, 9, 7, 5, 3, 0] km and the route is 12838\n",
      "The current best population in generation 850 is [0, 4, 2, 1, 8, 6, 9, 7, 5, 3, 0] km and the route is 12838\n",
      "The current best population in generation 875 is [0, 4, 2, 1, 8, 6, 9, 7, 5, 3, 0] km and the route is 12838\n",
      "The current best population in generation 900 is [0, 4, 2, 1, 8, 6, 9, 7, 5, 3, 0] km and the route is 12838\n",
      "The current best population in generation 925 is [0, 4, 2, 1, 8, 6, 9, 7, 5, 3, 0] km and the route is 12838\n",
      "The current best population in generation 950 is [0, 4, 2, 1, 8, 6, 9, 7, 5, 3, 0] km and the route is 12838\n",
      "The current best population in generation 975 is [0, 4, 2, 1, 8, 6, 9, 7, 5, 3, 0] km and the route is 12838\n",
      "The current best population in generation 1000 is [0, 4, 2, 1, 8, 6, 9, 7, 5, 3, 0] km and the route is 12838\n",
      "\n",
      "-----Final tour:----\n",
      "\n",
      "You should start/end in Ams\n",
      "Then you should go to Copenhagen\n",
      "Then you should go to Berlin\n",
      "Then you should go to Athens\n",
      "Then you should go to Madrid\n",
      "Then you should go to Lisbon\n",
      "Then you should go to Paris\n",
      "Then you should go to London\n",
      "Then you should go to Edinburg\n",
      "Then you should go to Brussels\n",
      "You should start/end in Ams\n"
     ]
    },
    {
     "data": {
      "image/png": "[encoded data removed]",
      "text/plain": [
       "<Figure size 800x600 with 1 Axes>"
      ]
     },
     "metadata": {},
     "output_type": "display_data"
    }
   ],
   "source": [
    "#Now we can re-run the experiment from above, this time using tournament selection:\n",
    "\n",
    "#Define the hyperparameters,\n",
    "#following the recommendations presented in the textbook\n",
    "#Eiben, A.E., Smith, J.E., Introduction to Evolutionary Computing., Springer, 2015, 2nd edition, page 100\n",
    "\n",
    "#Define population size\n",
    "n_population = 100 # maximum population size = 100\n",
    "\n",
    "#Define mutation rate\n",
    "p_mutation = 0.10 # feel free to adjust\n",
    "\n",
    "#Crossover probability\n",
    "p_crossover = 0.6 # feel free to adjust\n",
    "\n",
    "#Number of iterations\n",
    "n_iter = 1000 # maximum amount of iterations is 1000\n",
    "\n",
    "#Set the seed for reproducibility\n",
    "\n",
    "np.random.seed(5)\n",
    "\n",
    "#Tournament size\n",
    "k = 3 # feel free to adjust\n",
    "\n",
    "#City list, see the index from above\n",
    "# 0: Amsterdam, 1: Athens, 2: Berlin, 3: Brussels,\n",
    "#4: Copenhagen, 5: Edinburgh, 6: Lisbon, 7: London, 8: Madrid, 9: Paris\n",
    "\n",
    "\n",
    "\n",
    "# Adjacency mat\n",
    "adjacency_mat = np.asarray(\n",
    "    #Remember that we use the encoding above, i.e. 1 refers to Amsterdam and 10 to Paris!\n",
    "    [\n",
    "        [0, 3082, 649, 209, 904, 1180, 2300, 494, 1782, 515], # Distance Amsterdam to the other cities\n",
    "        [3082, 0, 2552, 3021, 3414, 3768, 4578, 3099, 3940, 3140], # Distance Athens to the other cities\n",
    "        [649, 2552, 0, 782, 743, 1727, 3165, 1059, 2527, 1094], # Distance Berlin to the other cities\n",
    "        [209, 3021, 782, 0, 1035, 996, 2080, 328, 1562, 294], # Distance Brussels to the other cities\n",
    "        [904, 3414, 743, 1035, 0, 1864, 3115, 1196, 2597, 1329], # Distance Copenhagen to the other cities\n",
    "        [1180, 3768, 1727, 996, 1864, 0, 2879, 656, 2372, 1082], # Distance Edinburgh to the other cities\n",
    "        [2300, 4578, 3165, 2080, 3115, 2879, 0, 2210, 638, 1786], # Distance Lisbon to the other cities\n",
    "        [494, 3099, 1059, 328, 1196, 656, 2210, 0, 1704, 414], # Distance London to the other cities\n",
    "        [1782, 3940, 2527, 1562, 2597, 2372, 638, 1704, 0, 1268], # Distance Madrid to the other cities\n",
    "        [515, 3140, 1094, 294, 1329, 1082, 1786, 414, 1268, 0] # Distance Paris to the other cities\n",
    "    ]\n",
    "\n",
    ")\n",
    "\n",
    "#Initialize the number of children\n",
    "number_of_children = 2 # feel free to adjust\n",
    "\n",
    "number_of_parents = int(n_population / number_of_children)\n",
    "\n",
    "\n",
    "#Initiliaze the generation\n",
    "generation = initialize_population(n_population)\n",
    "\n",
    "#Compute the current best fitness\n",
    "best_fit_old, best_ind_old = fittest_solution_TSP(compute_distance, generation, adjacency_mat)\n",
    "print('The current best solution in the initial generation is {0} km and the route is {1}'.format(best_ind_old, best_fit_old))\n",
    "\n",
    "\n",
    "assert (n_population <= 100), 'population size is greater then 100'\n",
    "assert (n_iter <= 1000), 'number of iterations is greater then 1000'\n",
    "\n",
    "for i in range(1, n_iter+1):\n",
    "\n",
    "    #Initialize the list of new generation\n",
    "    new_generation = []\n",
    "\n",
    "    #We loop over the number of parent pairs we need to get\n",
    "    for j in range(int(number_of_parents)):\n",
    "\n",
    "        mating_pool = []\n",
    "        for child in range(number_of_children):\n",
    "\n",
    "\n",
    "            mate = tournament_selection(generation, compute_distance, adjacency_mat, k)\n",
    "            mating_pool.append(mate)\n",
    "\n",
    "        #Cross-over\n",
    "        child_1, child_2 = crossover(generation[mating_pool[0]], generation[mating_pool[1]],\n",
    "                                                      p_crossover)\n",
    "\n",
    "        #Mutation\n",
    "        child_1 = mutation(child_1, p_mutation)\n",
    "        child_2 = mutation(child_2, p_mutation)\n",
    "\n",
    "        #Survival selection is here generational, hence all children replace their parents\n",
    "        new_generation.append(child_1)\n",
    "        new_generation.append(child_2)\n",
    "\n",
    "    generation = new_generation\n",
    "    #Calculate the best solution and replace the current_best\n",
    "\n",
    "    best_fit_new, best_ind_new = fittest_solution_TSP(compute_distance, generation, adjacency_mat)\n",
    "\n",
    "    if best_fit_new < best_fit_old:\n",
    "        best_fit_old = best_fit_new\n",
    "        best_ind_old = best_ind_new\n",
    "\n",
    "    if i % 25 == 0:\n",
    "        print('The current best population in generation {0} is {1} km and the route is {2}'.format(i, best_ind_old, best_fit_old))\n",
    "\n",
    "print('\\n-----Final tour:----\\n')\n",
    "#Print out the result:\n",
    "Decoding = {0: 'Ams',\n",
    "                1: 'Athens',\n",
    "                2: 'Berlin',\n",
    "                3: 'Brussels',\n",
    "                4: 'Copenhagen',\n",
    "                5: 'Edinburg',\n",
    "                6: 'Lisbon',\n",
    "                7: 'London',\n",
    "                8: 'Madrid',\n",
    "                9: 'Paris'}\n",
    "\n",
    "\n",
    "for city in best_ind_old:\n",
    "    if city == 0:\n",
    "        print(f'You should start/end in {Decoding[0]}')\n",
    "    else:\n",
    "        print(f'Then you should go to {Decoding[city]}')\n",
    "visualize(best_ind_old)"
   ]
  },
  {
   "cell_type": "markdown",
   "id": "24a4eb46-4ed8-4c35-b44d-a0a27661e114",
   "metadata": {
    "id": "24a4eb46-4ed8-4c35-b44d-a0a27661e114"
   },
   "source": [
    "Goal:\n",
    "\n",
    "You have run a correct EA if you are able to get the fitness function below 13.500 km traveled.\n",
    "\n",
    "Try to see if your algorithm is able to find such a solution after the amount of generations that is given."
   ]
  },
  {
   "cell_type": "code",
   "execution_count": null,
   "id": "9f8749ec-be79-4e49-b357-62175c0e81b2",
   "metadata": {},
   "outputs": [],
   "source": []
  },
  {
   "cell_type": "code",
   "execution_count": null,
   "id": "fe4824fc-07e5-4cc3-a33d-7aa6f63a3a24",
   "metadata": {},
   "outputs": [],
   "source": []
  },
  {
   "cell_type": "code",
   "execution_count": null,
   "id": "691326ce-2d41-4f57-a60c-8e235c7a0c5b",
   "metadata": {},
   "outputs": [],
   "source": []
  },
  {
   "cell_type": "code",
   "execution_count": null,
   "id": "3afadf35-682b-488a-999e-3b34e13e8b61",
   "metadata": {},
   "outputs": [],
   "source": []
  },
  {
   "cell_type": "code",
   "execution_count": null,
   "id": "562e437f-ec1b-49e5-a549-ea9afc09e9dc",
   "metadata": {},
   "outputs": [],
   "source": []
  },
  {
   "cell_type": "code",
   "execution_count": null,
   "id": "9bbe9caf-4f06-4c67-9a4f-581b0ed657d4",
   "metadata": {},
   "outputs": [],
   "source": []
  },
  {
   "cell_type": "code",
   "execution_count": null,
   "id": "9776b7ef-ab9b-43ef-b00e-14552a61db51",
   "metadata": {},
   "outputs": [],
   "source": []
  },
  {
   "cell_type": "code",
   "execution_count": null,
   "id": "ddce6081-2201-4021-8845-323b809307b2",
   "metadata": {},
   "outputs": [],
   "source": []
  },
  {
   "cell_type": "code",
   "execution_count": null,
   "id": "8fe533a1-28b7-4ffc-8464-155e6256da4c",
   "metadata": {},
   "outputs": [],
   "source": []
  }
 ],
 "metadata": {
  "colab": {
   "provenance": []
  },
  "interpreter": {
   "hash": "aee8b7b246df8f9039afb4144a1f6fd8d2ca17a180786b69acc140d282b71a49"
  },
  "kernelspec": {
   "display_name": "Python 3 (ipykernel)",
   "language": "python",
   "name": "python3"
  },
  "language_info": {
   "codemirror_mode": {
    "name": "ipython",
    "version": 3
   },
   "file_extension": ".py",
   "mimetype": "text/x-python",
   "name": "python",
   "nbconvert_exporter": "python",
   "pygments_lexer": "ipython3",
   "version": "3.12.4"
  }
 },
 "nbformat": 4,
 "nbformat_minor": 5
}
